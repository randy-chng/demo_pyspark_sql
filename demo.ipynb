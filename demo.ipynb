{
 "cells": [
  {
   "cell_type": "code",
   "execution_count": 1,
   "metadata": {},
   "outputs": [],
   "source": [
    "import os\n",
    "import pandas as pd\n",
    "\n",
    "from pyspark.sql import SparkSession\n",
    "from pyspark.sql.types import DoubleType\n",
    "from pyspark.sql import functions as F\n",
    "from pyspark.sql import Window"
   ]
  },
  {
   "cell_type": "markdown",
   "metadata": {},
   "source": [
    "#### Get current working directory"
   ]
  },
  {
   "cell_type": "code",
   "execution_count": 2,
   "metadata": {},
   "outputs": [
    {
     "data": {
      "text/plain": [
       "'C:\\\\Users\\\\randy\\\\Desktop\\\\Personal\\\\github\\\\demo_pyspark_sql'"
      ]
     },
     "execution_count": 2,
     "metadata": {},
     "output_type": "execute_result"
    }
   ],
   "source": [
    "cwd = os.getcwd()\n",
    "\n",
    "cwd"
   ]
  },
  {
   "cell_type": "markdown",
   "metadata": {},
   "source": [
    "#### Initialise spark"
   ]
  },
  {
   "cell_type": "code",
   "execution_count": 3,
   "metadata": {},
   "outputs": [
    {
     "data": {
      "text/html": [
       "\n",
       "            <div>\n",
       "                <p><b>SparkSession - in-memory</b></p>\n",
       "                \n",
       "        <div>\n",
       "            <p><b>SparkContext</b></p>\n",
       "\n",
       "            <p><a href=\"http://host.docker.internal:4040\">Spark UI</a></p>\n",
       "\n",
       "            <dl>\n",
       "              <dt>Version</dt>\n",
       "                <dd><code>v2.3.1</code></dd>\n",
       "              <dt>Master</dt>\n",
       "                <dd><code>local[*]</code></dd>\n",
       "              <dt>AppName</dt>\n",
       "                <dd><code>pyspark-shell</code></dd>\n",
       "            </dl>\n",
       "        </div>\n",
       "        \n",
       "            </div>\n",
       "        "
      ],
      "text/plain": [
       "<pyspark.sql.session.SparkSession at 0x260f4524400>"
      ]
     },
     "execution_count": 3,
     "metadata": {},
     "output_type": "execute_result"
    }
   ],
   "source": [
    "spark = SparkSession.builder.getOrCreate()\n",
    "\n",
    "spark"
   ]
  },
  {
   "cell_type": "markdown",
   "metadata": {},
   "source": [
    "#### Read local csv into spark"
   ]
  },
  {
   "cell_type": "code",
   "execution_count": 4,
   "metadata": {},
   "outputs": [],
   "source": [
    "df = spark.read.csv(\n",
    "    os.path.join(\n",
    "        'file://',\n",
    "        cwd,\n",
    "        'bank.csv'\n",
    "    ),\n",
    "    header=True\n",
    ")"
   ]
  },
  {
   "cell_type": "markdown",
   "metadata": {},
   "source": [
    "#### Analyse schema"
   ]
  },
  {
   "cell_type": "code",
   "execution_count": 5,
   "metadata": {},
   "outputs": [
    {
     "name": "stdout",
     "output_type": "stream",
     "text": [
      "root\n",
      " |-- age: string (nullable = true)\n",
      " |-- job: string (nullable = true)\n",
      " |-- marital: string (nullable = true)\n",
      " |-- education: string (nullable = true)\n",
      " |-- default: string (nullable = true)\n",
      " |-- balance: string (nullable = true)\n",
      " |-- housing: string (nullable = true)\n",
      " |-- loan: string (nullable = true)\n",
      " |-- contact: string (nullable = true)\n",
      " |-- day: string (nullable = true)\n",
      " |-- month: string (nullable = true)\n",
      " |-- duration: string (nullable = true)\n",
      " |-- campaign: string (nullable = true)\n",
      " |-- pdays: string (nullable = true)\n",
      " |-- previous: string (nullable = true)\n",
      " |-- poutcome: string (nullable = true)\n",
      " |-- deposit: string (nullable = true)\n",
      "\n"
     ]
    }
   ],
   "source": [
    "df.printSchema()"
   ]
  },
  {
   "cell_type": "markdown",
   "metadata": {},
   "source": [
    "#### Count records"
   ]
  },
  {
   "cell_type": "code",
   "execution_count": 6,
   "metadata": {},
   "outputs": [
    {
     "data": {
      "text/plain": [
       "11162"
      ]
     },
     "execution_count": 6,
     "metadata": {},
     "output_type": "execute_result"
    }
   ],
   "source": [
    "df.count()"
   ]
  },
  {
   "cell_type": "markdown",
   "metadata": {},
   "source": [
    "#### Sample records"
   ]
  },
  {
   "cell_type": "code",
   "execution_count": 7,
   "metadata": {},
   "outputs": [
    {
     "data": {
      "text/html": [
       "<div>\n",
       "<style scoped>\n",
       "    .dataframe tbody tr th:only-of-type {\n",
       "        vertical-align: middle;\n",
       "    }\n",
       "\n",
       "    .dataframe tbody tr th {\n",
       "        vertical-align: top;\n",
       "    }\n",
       "\n",
       "    .dataframe thead th {\n",
       "        text-align: right;\n",
       "    }\n",
       "</style>\n",
       "<table border=\"1\" class=\"dataframe\">\n",
       "  <thead>\n",
       "    <tr style=\"text-align: right;\">\n",
       "      <th></th>\n",
       "      <th>age</th>\n",
       "      <th>job</th>\n",
       "      <th>marital</th>\n",
       "      <th>education</th>\n",
       "      <th>default</th>\n",
       "      <th>balance</th>\n",
       "      <th>housing</th>\n",
       "      <th>loan</th>\n",
       "      <th>contact</th>\n",
       "      <th>day</th>\n",
       "      <th>month</th>\n",
       "      <th>duration</th>\n",
       "      <th>campaign</th>\n",
       "      <th>pdays</th>\n",
       "      <th>previous</th>\n",
       "      <th>poutcome</th>\n",
       "      <th>deposit</th>\n",
       "    </tr>\n",
       "  </thead>\n",
       "  <tbody>\n",
       "    <tr>\n",
       "      <th>0</th>\n",
       "      <td>59</td>\n",
       "      <td>admin.</td>\n",
       "      <td>married</td>\n",
       "      <td>secondary</td>\n",
       "      <td>no</td>\n",
       "      <td>2343</td>\n",
       "      <td>yes</td>\n",
       "      <td>no</td>\n",
       "      <td>unknown</td>\n",
       "      <td>5</td>\n",
       "      <td>may</td>\n",
       "      <td>1042</td>\n",
       "      <td>1</td>\n",
       "      <td>-1</td>\n",
       "      <td>0</td>\n",
       "      <td>unknown</td>\n",
       "      <td>yes</td>\n",
       "    </tr>\n",
       "    <tr>\n",
       "      <th>1</th>\n",
       "      <td>56</td>\n",
       "      <td>admin.</td>\n",
       "      <td>married</td>\n",
       "      <td>secondary</td>\n",
       "      <td>no</td>\n",
       "      <td>45</td>\n",
       "      <td>no</td>\n",
       "      <td>no</td>\n",
       "      <td>unknown</td>\n",
       "      <td>5</td>\n",
       "      <td>may</td>\n",
       "      <td>1467</td>\n",
       "      <td>1</td>\n",
       "      <td>-1</td>\n",
       "      <td>0</td>\n",
       "      <td>unknown</td>\n",
       "      <td>yes</td>\n",
       "    </tr>\n",
       "    <tr>\n",
       "      <th>2</th>\n",
       "      <td>41</td>\n",
       "      <td>technician</td>\n",
       "      <td>married</td>\n",
       "      <td>secondary</td>\n",
       "      <td>no</td>\n",
       "      <td>1270</td>\n",
       "      <td>yes</td>\n",
       "      <td>no</td>\n",
       "      <td>unknown</td>\n",
       "      <td>5</td>\n",
       "      <td>may</td>\n",
       "      <td>1389</td>\n",
       "      <td>1</td>\n",
       "      <td>-1</td>\n",
       "      <td>0</td>\n",
       "      <td>unknown</td>\n",
       "      <td>yes</td>\n",
       "    </tr>\n",
       "  </tbody>\n",
       "</table>\n",
       "</div>"
      ],
      "text/plain": [
       "  age         job  marital  education default balance housing loan  contact  \\\n",
       "0  59      admin.  married  secondary      no    2343     yes   no  unknown   \n",
       "1  56      admin.  married  secondary      no      45      no   no  unknown   \n",
       "2  41  technician  married  secondary      no    1270     yes   no  unknown   \n",
       "\n",
       "  day month duration campaign pdays previous poutcome deposit  \n",
       "0   5   may     1042        1    -1        0  unknown     yes  \n",
       "1   5   may     1467        1    -1        0  unknown     yes  \n",
       "2   5   may     1389        1    -1        0  unknown     yes  "
      ]
     },
     "execution_count": 7,
     "metadata": {},
     "output_type": "execute_result"
    }
   ],
   "source": [
    "df.limit(3).toPandas()"
   ]
  },
  {
   "cell_type": "markdown",
   "metadata": {},
   "source": [
    "#### Get distinct value of each column"
   ]
  },
  {
   "cell_type": "code",
   "execution_count": 8,
   "metadata": {},
   "outputs": [
    {
     "name": "stdout",
     "output_type": "stream",
     "text": [
      "Analysing age\n",
      "Analysing job\n",
      "Analysing marital\n",
      "Analysing education\n",
      "Analysing default\n",
      "Analysing balance\n",
      "Analysing housing\n",
      "Analysing loan\n",
      "Analysing contact\n",
      "Analysing day\n",
      "Analysing month\n",
      "Analysing duration\n",
      "Analysing campaign\n",
      "Analysing pdays\n",
      "Analysing previous\n",
      "Analysing poutcome\n",
      "Analysing deposit\n"
     ]
    }
   ],
   "source": [
    "col_distinct_val = {\n",
    "    col: None for col in df.columns\n",
    "}\n",
    "\n",
    "for col in col_distinct_val.keys():\n",
    "\n",
    "    print('Analysing', col)\n",
    "    col_distinct_val[col] = [i[col] for i in df.select(col).distinct().collect()]"
   ]
  },
  {
   "cell_type": "markdown",
   "metadata": {},
   "source": [
    "#### Identify categorical and numerical columns"
   ]
  },
  {
   "cell_type": "code",
   "execution_count": 9,
   "metadata": {},
   "outputs": [
    {
     "name": "stdout",
     "output_type": "stream",
     "text": [
      "Analysing age\n",
      "Analysing job\n",
      "Analysing marital\n",
      "Analysing education\n",
      "Analysing default\n",
      "Analysing balance\n",
      "Analysing housing\n",
      "Analysing loan\n",
      "Analysing contact\n",
      "Analysing day\n",
      "Analysing month\n",
      "Analysing duration\n",
      "Analysing campaign\n",
      "Analysing pdays\n",
      "Analysing previous\n",
      "Analysing poutcome\n",
      "Analysing deposit\n"
     ]
    }
   ],
   "source": [
    "def is_number(value):\n",
    "    \n",
    "    try:\n",
    "        float(value)\n",
    "        return True\n",
    "    except Exception:\n",
    "        return False\n",
    "\n",
    "numerical_cols = []\n",
    "categorical_cols = []\n",
    "\n",
    "for col, values in col_distinct_val.items():\n",
    "\n",
    "    print('Analysing', col)\n",
    "    test = {is_number(value) for value in values}\n",
    "\n",
    "    if test == {True}:\n",
    "        numerical_cols.append(col)\n",
    "    else:\n",
    "        categorical_cols.append(col)"
   ]
  },
  {
   "cell_type": "code",
   "execution_count": 10,
   "metadata": {},
   "outputs": [
    {
     "name": "stdout",
     "output_type": "stream",
     "text": [
      "Numerical: ['age', 'balance', 'day', 'duration', 'campaign', 'pdays', 'previous'] \n",
      "\n",
      "Categorical: ['job', 'marital', 'education', 'default', 'housing', 'loan', 'contact', 'month', 'poutcome', 'deposit']\n"
     ]
    }
   ],
   "source": [
    "print('Numerical:', numerical_cols, '\\n')\n",
    "print('Categorical:', categorical_cols)"
   ]
  },
  {
   "cell_type": "markdown",
   "metadata": {},
   "source": [
    "#### Convert numerical column type to numerical"
   ]
  },
  {
   "cell_type": "code",
   "execution_count": 11,
   "metadata": {},
   "outputs": [
    {
     "name": "stdout",
     "output_type": "stream",
     "text": [
      "root\n",
      " |-- age: double (nullable = true)\n",
      " |-- job: string (nullable = true)\n",
      " |-- marital: string (nullable = true)\n",
      " |-- education: string (nullable = true)\n",
      " |-- default: string (nullable = true)\n",
      " |-- balance: double (nullable = true)\n",
      " |-- housing: string (nullable = true)\n",
      " |-- loan: string (nullable = true)\n",
      " |-- contact: string (nullable = true)\n",
      " |-- day: double (nullable = true)\n",
      " |-- month: string (nullable = true)\n",
      " |-- duration: double (nullable = true)\n",
      " |-- campaign: double (nullable = true)\n",
      " |-- pdays: double (nullable = true)\n",
      " |-- previous: double (nullable = true)\n",
      " |-- poutcome: string (nullable = true)\n",
      " |-- deposit: string (nullable = true)\n",
      "\n"
     ]
    }
   ],
   "source": [
    "for col in numerical_cols:\n",
    "\n",
    "    df = df.withColumn(\n",
    "        col,\n",
    "        df[col].cast(DoubleType())\n",
    "    )\n",
    "    \n",
    "df.printSchema()"
   ]
  },
  {
   "cell_type": "markdown",
   "metadata": {},
   "source": [
    "#### Summary of numerical columns"
   ]
  },
  {
   "cell_type": "code",
   "execution_count": 12,
   "metadata": {},
   "outputs": [
    {
     "data": {
      "text/html": [
       "<div>\n",
       "<style scoped>\n",
       "    .dataframe tbody tr th:only-of-type {\n",
       "        vertical-align: middle;\n",
       "    }\n",
       "\n",
       "    .dataframe tbody tr th {\n",
       "        vertical-align: top;\n",
       "    }\n",
       "\n",
       "    .dataframe thead th {\n",
       "        text-align: right;\n",
       "    }\n",
       "</style>\n",
       "<table border=\"1\" class=\"dataframe\">\n",
       "  <thead>\n",
       "    <tr style=\"text-align: right;\">\n",
       "      <th></th>\n",
       "      <th>summary</th>\n",
       "      <th>age</th>\n",
       "      <th>balance</th>\n",
       "      <th>day</th>\n",
       "      <th>duration</th>\n",
       "      <th>campaign</th>\n",
       "      <th>pdays</th>\n",
       "      <th>previous</th>\n",
       "    </tr>\n",
       "  </thead>\n",
       "  <tbody>\n",
       "    <tr>\n",
       "      <th>0</th>\n",
       "      <td>count</td>\n",
       "      <td>11162</td>\n",
       "      <td>11162</td>\n",
       "      <td>11162</td>\n",
       "      <td>11162</td>\n",
       "      <td>11162</td>\n",
       "      <td>11162</td>\n",
       "      <td>11162</td>\n",
       "    </tr>\n",
       "    <tr>\n",
       "      <th>1</th>\n",
       "      <td>mean</td>\n",
       "      <td>41.231947679627304</td>\n",
       "      <td>1528.5385235620856</td>\n",
       "      <td>15.658036194230425</td>\n",
       "      <td>371.99381831213043</td>\n",
       "      <td>2.508421429851281</td>\n",
       "      <td>51.33040673714388</td>\n",
       "      <td>0.8325568894463358</td>\n",
       "    </tr>\n",
       "    <tr>\n",
       "      <th>2</th>\n",
       "      <td>stddev</td>\n",
       "      <td>11.913369192215518</td>\n",
       "      <td>3225.413325946149</td>\n",
       "      <td>8.420739541006462</td>\n",
       "      <td>347.12838571630687</td>\n",
       "      <td>2.7220771816614824</td>\n",
       "      <td>108.75828197197717</td>\n",
       "      <td>2.292007218670508</td>\n",
       "    </tr>\n",
       "    <tr>\n",
       "      <th>3</th>\n",
       "      <td>min</td>\n",
       "      <td>18.0</td>\n",
       "      <td>-6847.0</td>\n",
       "      <td>1.0</td>\n",
       "      <td>2.0</td>\n",
       "      <td>1.0</td>\n",
       "      <td>-1.0</td>\n",
       "      <td>0.0</td>\n",
       "    </tr>\n",
       "    <tr>\n",
       "      <th>4</th>\n",
       "      <td>25%</td>\n",
       "      <td>32.0</td>\n",
       "      <td>122.0</td>\n",
       "      <td>8.0</td>\n",
       "      <td>138.0</td>\n",
       "      <td>1.0</td>\n",
       "      <td>-1.0</td>\n",
       "      <td>0.0</td>\n",
       "    </tr>\n",
       "    <tr>\n",
       "      <th>5</th>\n",
       "      <td>50%</td>\n",
       "      <td>39.0</td>\n",
       "      <td>550.0</td>\n",
       "      <td>15.0</td>\n",
       "      <td>255.0</td>\n",
       "      <td>2.0</td>\n",
       "      <td>-1.0</td>\n",
       "      <td>0.0</td>\n",
       "    </tr>\n",
       "    <tr>\n",
       "      <th>6</th>\n",
       "      <td>75%</td>\n",
       "      <td>49.0</td>\n",
       "      <td>1708.0</td>\n",
       "      <td>22.0</td>\n",
       "      <td>496.0</td>\n",
       "      <td>3.0</td>\n",
       "      <td>20.0</td>\n",
       "      <td>1.0</td>\n",
       "    </tr>\n",
       "    <tr>\n",
       "      <th>7</th>\n",
       "      <td>max</td>\n",
       "      <td>95.0</td>\n",
       "      <td>81204.0</td>\n",
       "      <td>31.0</td>\n",
       "      <td>3881.0</td>\n",
       "      <td>63.0</td>\n",
       "      <td>854.0</td>\n",
       "      <td>58.0</td>\n",
       "    </tr>\n",
       "  </tbody>\n",
       "</table>\n",
       "</div>"
      ],
      "text/plain": [
       "  summary                 age             balance                 day  \\\n",
       "0   count               11162               11162               11162   \n",
       "1    mean  41.231947679627304  1528.5385235620856  15.658036194230425   \n",
       "2  stddev  11.913369192215518   3225.413325946149   8.420739541006462   \n",
       "3     min                18.0             -6847.0                 1.0   \n",
       "4     25%                32.0               122.0                 8.0   \n",
       "5     50%                39.0               550.0                15.0   \n",
       "6     75%                49.0              1708.0                22.0   \n",
       "7     max                95.0             81204.0                31.0   \n",
       "\n",
       "             duration            campaign               pdays  \\\n",
       "0               11162               11162               11162   \n",
       "1  371.99381831213043   2.508421429851281   51.33040673714388   \n",
       "2  347.12838571630687  2.7220771816614824  108.75828197197717   \n",
       "3                 2.0                 1.0                -1.0   \n",
       "4               138.0                 1.0                -1.0   \n",
       "5               255.0                 2.0                -1.0   \n",
       "6               496.0                 3.0                20.0   \n",
       "7              3881.0                63.0               854.0   \n",
       "\n",
       "             previous  \n",
       "0               11162  \n",
       "1  0.8325568894463358  \n",
       "2   2.292007218670508  \n",
       "3                 0.0  \n",
       "4                 0.0  \n",
       "5                 0.0  \n",
       "6                 1.0  \n",
       "7                58.0  "
      ]
     },
     "execution_count": 12,
     "metadata": {},
     "output_type": "execute_result"
    }
   ],
   "source": [
    "df.select(numerical_cols).summary().toPandas()"
   ]
  },
  {
   "cell_type": "markdown",
   "metadata": {},
   "source": [
    "#### Summary of categorical columns"
   ]
  },
  {
   "cell_type": "code",
   "execution_count": 13,
   "metadata": {},
   "outputs": [
    {
     "name": "stdout",
     "output_type": "stream",
     "text": [
      "job\n",
      ">> ['management', 'retired', 'unknown', 'self-employed', 'student', 'blue-collar', 'entrepreneur', 'admin.', 'technician', 'services', 'housemaid', 'unemployed'] \n",
      "\n",
      "marital\n",
      ">> ['divorced', 'married', 'single'] \n",
      "\n",
      "education\n",
      ">> ['unknown', 'tertiary', 'secondary', 'primary'] \n",
      "\n",
      "default\n",
      ">> ['no', 'yes'] \n",
      "\n",
      "housing\n",
      ">> ['no', 'yes'] \n",
      "\n",
      "loan\n",
      ">> ['no', 'yes'] \n",
      "\n",
      "contact\n",
      ">> ['unknown', 'cellular', 'telephone'] \n",
      "\n",
      "month\n",
      ">> ['jun', 'aug', 'may', 'feb', 'sep', 'mar', 'oct', 'jul', 'nov', 'apr', 'dec', 'jan'] \n",
      "\n",
      "poutcome\n",
      ">> ['success', 'unknown', 'other', 'failure'] \n",
      "\n",
      "deposit\n",
      ">> ['no', 'yes'] \n",
      "\n"
     ]
    }
   ],
   "source": [
    "for col in categorical_cols:\n",
    "\n",
    "    print(col)\n",
    "    print('>>', col_distinct_val[col], '\\n')"
   ]
  },
  {
   "cell_type": "markdown",
   "metadata": {},
   "source": [
    "#### Standardise value of existing column"
   ]
  },
  {
   "cell_type": "code",
   "execution_count": 14,
   "metadata": {},
   "outputs": [
    {
     "data": {
      "text/html": [
       "<div>\n",
       "<style scoped>\n",
       "    .dataframe tbody tr th:only-of-type {\n",
       "        vertical-align: middle;\n",
       "    }\n",
       "\n",
       "    .dataframe tbody tr th {\n",
       "        vertical-align: top;\n",
       "    }\n",
       "\n",
       "    .dataframe thead th {\n",
       "        text-align: right;\n",
       "    }\n",
       "</style>\n",
       "<table border=\"1\" class=\"dataframe\">\n",
       "  <thead>\n",
       "    <tr style=\"text-align: right;\">\n",
       "      <th></th>\n",
       "      <th>poutcome</th>\n",
       "    </tr>\n",
       "  </thead>\n",
       "  <tbody>\n",
       "    <tr>\n",
       "      <th>0</th>\n",
       "      <td>success</td>\n",
       "    </tr>\n",
       "    <tr>\n",
       "      <th>1</th>\n",
       "      <td>unknown</td>\n",
       "    </tr>\n",
       "    <tr>\n",
       "      <th>2</th>\n",
       "      <td>failure</td>\n",
       "    </tr>\n",
       "  </tbody>\n",
       "</table>\n",
       "</div>"
      ],
      "text/plain": [
       "  poutcome\n",
       "0  success\n",
       "1  unknown\n",
       "2  failure"
      ]
     },
     "execution_count": 14,
     "metadata": {},
     "output_type": "execute_result"
    }
   ],
   "source": [
    "df = df.withColumn(\n",
    "    'poutcome',\n",
    "    F.when(\n",
    "        F.col('poutcome') == 'other',\n",
    "        F.lit('unknown')\n",
    "    ).otherwise(\n",
    "        F.col('poutcome')\n",
    "    )\n",
    ")\n",
    "\n",
    "df.select('poutcome').distinct().toPandas()"
   ]
  },
  {
   "cell_type": "markdown",
   "metadata": {},
   "source": [
    "#### Balances summary by education and marital"
   ]
  },
  {
   "cell_type": "code",
   "execution_count": 15,
   "metadata": {},
   "outputs": [
    {
     "data": {
      "text/html": [
       "<div>\n",
       "<style scoped>\n",
       "    .dataframe tbody tr th:only-of-type {\n",
       "        vertical-align: middle;\n",
       "    }\n",
       "\n",
       "    .dataframe tbody tr th {\n",
       "        vertical-align: top;\n",
       "    }\n",
       "\n",
       "    .dataframe thead th {\n",
       "        text-align: right;\n",
       "    }\n",
       "</style>\n",
       "<table border=\"1\" class=\"dataframe\">\n",
       "  <thead>\n",
       "    <tr style=\"text-align: right;\">\n",
       "      <th></th>\n",
       "      <th>education</th>\n",
       "      <th>marital</th>\n",
       "      <th>tot_population</th>\n",
       "      <th>tot_balance</th>\n",
       "      <th>avg_balance</th>\n",
       "      <th>min_balance</th>\n",
       "      <th>max_balance</th>\n",
       "    </tr>\n",
       "  </thead>\n",
       "  <tbody>\n",
       "    <tr>\n",
       "      <th>0</th>\n",
       "      <td>primary</td>\n",
       "      <td>single</td>\n",
       "      <td>197</td>\n",
       "      <td>271800.0</td>\n",
       "      <td>1379.70</td>\n",
       "      <td>-887.0</td>\n",
       "      <td>26965.0</td>\n",
       "    </tr>\n",
       "    <tr>\n",
       "      <th>1</th>\n",
       "      <td>primary</td>\n",
       "      <td>married</td>\n",
       "      <td>1099</td>\n",
       "      <td>1723931.0</td>\n",
       "      <td>1568.64</td>\n",
       "      <td>-1489.0</td>\n",
       "      <td>66653.0</td>\n",
       "    </tr>\n",
       "    <tr>\n",
       "      <th>2</th>\n",
       "      <td>primary</td>\n",
       "      <td>divorced</td>\n",
       "      <td>204</td>\n",
       "      <td>288816.0</td>\n",
       "      <td>1415.76</td>\n",
       "      <td>-779.0</td>\n",
       "      <td>37127.0</td>\n",
       "    </tr>\n",
       "    <tr>\n",
       "      <th>3</th>\n",
       "      <td>secondary</td>\n",
       "      <td>single</td>\n",
       "      <td>1704</td>\n",
       "      <td>1942320.0</td>\n",
       "      <td>1139.86</td>\n",
       "      <td>-1139.0</td>\n",
       "      <td>56831.0</td>\n",
       "    </tr>\n",
       "    <tr>\n",
       "      <th>4</th>\n",
       "      <td>secondary</td>\n",
       "      <td>married</td>\n",
       "      <td>3120</td>\n",
       "      <td>4500996.0</td>\n",
       "      <td>1442.63</td>\n",
       "      <td>-1965.0</td>\n",
       "      <td>81204.0</td>\n",
       "    </tr>\n",
       "    <tr>\n",
       "      <th>5</th>\n",
       "      <td>secondary</td>\n",
       "      <td>divorced</td>\n",
       "      <td>652</td>\n",
       "      <td>656210.0</td>\n",
       "      <td>1006.46</td>\n",
       "      <td>-934.0</td>\n",
       "      <td>12039.0</td>\n",
       "    </tr>\n",
       "    <tr>\n",
       "      <th>6</th>\n",
       "      <td>tertiary</td>\n",
       "      <td>single</td>\n",
       "      <td>1460</td>\n",
       "      <td>2637784.0</td>\n",
       "      <td>1806.70</td>\n",
       "      <td>-880.0</td>\n",
       "      <td>36252.0</td>\n",
       "    </tr>\n",
       "    <tr>\n",
       "      <th>7</th>\n",
       "      <td>tertiary</td>\n",
       "      <td>married</td>\n",
       "      <td>1843</td>\n",
       "      <td>3433041.0</td>\n",
       "      <td>1862.75</td>\n",
       "      <td>-6847.0</td>\n",
       "      <td>51439.0</td>\n",
       "    </tr>\n",
       "    <tr>\n",
       "      <th>8</th>\n",
       "      <td>tertiary</td>\n",
       "      <td>divorced</td>\n",
       "      <td>386</td>\n",
       "      <td>738586.0</td>\n",
       "      <td>1913.44</td>\n",
       "      <td>-2282.0</td>\n",
       "      <td>52587.0</td>\n",
       "    </tr>\n",
       "    <tr>\n",
       "      <th>9</th>\n",
       "      <td>unknown</td>\n",
       "      <td>single</td>\n",
       "      <td>157</td>\n",
       "      <td>274720.0</td>\n",
       "      <td>1749.81</td>\n",
       "      <td>-461.0</td>\n",
       "      <td>45248.0</td>\n",
       "    </tr>\n",
       "    <tr>\n",
       "      <th>10</th>\n",
       "      <td>unknown</td>\n",
       "      <td>married</td>\n",
       "      <td>289</td>\n",
       "      <td>503172.0</td>\n",
       "      <td>1741.08</td>\n",
       "      <td>-1137.0</td>\n",
       "      <td>23592.0</td>\n",
       "    </tr>\n",
       "    <tr>\n",
       "      <th>11</th>\n",
       "      <td>unknown</td>\n",
       "      <td>divorced</td>\n",
       "      <td>51</td>\n",
       "      <td>90171.0</td>\n",
       "      <td>1768.06</td>\n",
       "      <td>-701.0</td>\n",
       "      <td>9224.0</td>\n",
       "    </tr>\n",
       "  </tbody>\n",
       "</table>\n",
       "</div>"
      ],
      "text/plain": [
       "    education   marital  tot_population  tot_balance  avg_balance  \\\n",
       "0     primary    single             197     271800.0      1379.70   \n",
       "1     primary   married            1099    1723931.0      1568.64   \n",
       "2     primary  divorced             204     288816.0      1415.76   \n",
       "3   secondary    single            1704    1942320.0      1139.86   \n",
       "4   secondary   married            3120    4500996.0      1442.63   \n",
       "5   secondary  divorced             652     656210.0      1006.46   \n",
       "6    tertiary    single            1460    2637784.0      1806.70   \n",
       "7    tertiary   married            1843    3433041.0      1862.75   \n",
       "8    tertiary  divorced             386     738586.0      1913.44   \n",
       "9     unknown    single             157     274720.0      1749.81   \n",
       "10    unknown   married             289     503172.0      1741.08   \n",
       "11    unknown  divorced              51      90171.0      1768.06   \n",
       "\n",
       "    min_balance  max_balance  \n",
       "0        -887.0      26965.0  \n",
       "1       -1489.0      66653.0  \n",
       "2        -779.0      37127.0  \n",
       "3       -1139.0      56831.0  \n",
       "4       -1965.0      81204.0  \n",
       "5        -934.0      12039.0  \n",
       "6        -880.0      36252.0  \n",
       "7       -6847.0      51439.0  \n",
       "8       -2282.0      52587.0  \n",
       "9        -461.0      45248.0  \n",
       "10      -1137.0      23592.0  \n",
       "11       -701.0       9224.0  "
      ]
     },
     "execution_count": 15,
     "metadata": {},
     "output_type": "execute_result"
    }
   ],
   "source": [
    "df.groupby(\n",
    "    'education',\n",
    "    'marital'\n",
    ").agg(\n",
    "    F.count('job').alias('tot_population'),\n",
    "    F.sum('balance').alias('tot_balance'),\n",
    "    F.round(F.avg('balance'), 2).alias('avg_balance'),\n",
    "    F.min('balance').alias('min_balance'),\n",
    "    F.max('balance').alias('max_balance')\n",
    ").orderBy(\n",
    "    F.asc('education'),\n",
    "    F.desc('marital')\n",
    ").toPandas()"
   ]
  },
  {
   "cell_type": "markdown",
   "metadata": {},
   "source": [
    "#### Top 3 balance by marital"
   ]
  },
  {
   "cell_type": "code",
   "execution_count": 16,
   "metadata": {},
   "outputs": [
    {
     "data": {
      "text/html": [
       "<div>\n",
       "<style scoped>\n",
       "    .dataframe tbody tr th:only-of-type {\n",
       "        vertical-align: middle;\n",
       "    }\n",
       "\n",
       "    .dataframe tbody tr th {\n",
       "        vertical-align: top;\n",
       "    }\n",
       "\n",
       "    .dataframe thead th {\n",
       "        text-align: right;\n",
       "    }\n",
       "</style>\n",
       "<table border=\"1\" class=\"dataframe\">\n",
       "  <thead>\n",
       "    <tr style=\"text-align: right;\">\n",
       "      <th></th>\n",
       "      <th>marital</th>\n",
       "      <th>job</th>\n",
       "      <th>age</th>\n",
       "      <th>balance</th>\n",
       "      <th>rank</th>\n",
       "    </tr>\n",
       "  </thead>\n",
       "  <tbody>\n",
       "    <tr>\n",
       "      <th>0</th>\n",
       "      <td>single</td>\n",
       "      <td>admin.</td>\n",
       "      <td>43.0</td>\n",
       "      <td>56831.0</td>\n",
       "      <td>1</td>\n",
       "    </tr>\n",
       "    <tr>\n",
       "      <th>1</th>\n",
       "      <td>single</td>\n",
       "      <td>technician</td>\n",
       "      <td>39.0</td>\n",
       "      <td>45248.0</td>\n",
       "      <td>2</td>\n",
       "    </tr>\n",
       "    <tr>\n",
       "      <th>2</th>\n",
       "      <td>single</td>\n",
       "      <td>management</td>\n",
       "      <td>29.0</td>\n",
       "      <td>36252.0</td>\n",
       "      <td>3</td>\n",
       "    </tr>\n",
       "    <tr>\n",
       "      <th>3</th>\n",
       "      <td>married</td>\n",
       "      <td>retired</td>\n",
       "      <td>84.0</td>\n",
       "      <td>81204.0</td>\n",
       "      <td>1</td>\n",
       "    </tr>\n",
       "    <tr>\n",
       "      <th>4</th>\n",
       "      <td>married</td>\n",
       "      <td>retired</td>\n",
       "      <td>84.0</td>\n",
       "      <td>81204.0</td>\n",
       "      <td>1</td>\n",
       "    </tr>\n",
       "    <tr>\n",
       "      <th>5</th>\n",
       "      <td>married</td>\n",
       "      <td>blue-collar</td>\n",
       "      <td>52.0</td>\n",
       "      <td>66653.0</td>\n",
       "      <td>2</td>\n",
       "    </tr>\n",
       "    <tr>\n",
       "      <th>6</th>\n",
       "      <td>married</td>\n",
       "      <td>entrepreneur</td>\n",
       "      <td>56.0</td>\n",
       "      <td>51439.0</td>\n",
       "      <td>3</td>\n",
       "    </tr>\n",
       "    <tr>\n",
       "      <th>7</th>\n",
       "      <td>divorced</td>\n",
       "      <td>self-employed</td>\n",
       "      <td>61.0</td>\n",
       "      <td>52587.0</td>\n",
       "      <td>1</td>\n",
       "    </tr>\n",
       "    <tr>\n",
       "      <th>8</th>\n",
       "      <td>divorced</td>\n",
       "      <td>self-employed</td>\n",
       "      <td>61.0</td>\n",
       "      <td>52587.0</td>\n",
       "      <td>1</td>\n",
       "    </tr>\n",
       "    <tr>\n",
       "      <th>9</th>\n",
       "      <td>divorced</td>\n",
       "      <td>retired</td>\n",
       "      <td>75.0</td>\n",
       "      <td>37127.0</td>\n",
       "      <td>2</td>\n",
       "    </tr>\n",
       "    <tr>\n",
       "      <th>10</th>\n",
       "      <td>divorced</td>\n",
       "      <td>retired</td>\n",
       "      <td>74.0</td>\n",
       "      <td>29080.0</td>\n",
       "      <td>3</td>\n",
       "    </tr>\n",
       "  </tbody>\n",
       "</table>\n",
       "</div>"
      ],
      "text/plain": [
       "     marital            job   age  balance  rank\n",
       "0     single         admin.  43.0  56831.0     1\n",
       "1     single     technician  39.0  45248.0     2\n",
       "2     single     management  29.0  36252.0     3\n",
       "3    married        retired  84.0  81204.0     1\n",
       "4    married        retired  84.0  81204.0     1\n",
       "5    married    blue-collar  52.0  66653.0     2\n",
       "6    married   entrepreneur  56.0  51439.0     3\n",
       "7   divorced  self-employed  61.0  52587.0     1\n",
       "8   divorced  self-employed  61.0  52587.0     1\n",
       "9   divorced        retired  75.0  37127.0     2\n",
       "10  divorced        retired  74.0  29080.0     3"
      ]
     },
     "execution_count": 16,
     "metadata": {},
     "output_type": "execute_result"
    }
   ],
   "source": [
    "df.withColumn(\n",
    "    'rank',\n",
    "    F.dense_rank().over(\n",
    "        Window.partitionBy(\n",
    "            'marital'\n",
    "        ).orderBy(\n",
    "            F.desc('balance')\n",
    "        )\n",
    "    )\n",
    ").filter(\n",
    "    F.col('rank') < 4\n",
    ").orderBy(\n",
    "    F.desc('marital')\n",
    ").select(\n",
    "    'marital',\n",
    "    'job',\n",
    "    'age',\n",
    "    'balance',\n",
    "    'rank'\n",
    ").toPandas()"
   ]
  },
  {
   "cell_type": "markdown",
   "metadata": {},
   "source": [
    "#### Create new column for negative balance check"
   ]
  },
  {
   "cell_type": "code",
   "execution_count": 17,
   "metadata": {},
   "outputs": [
    {
     "name": "stdout",
     "output_type": "stream",
     "text": [
      "root\n",
      " |-- age: double (nullable = true)\n",
      " |-- job: string (nullable = true)\n",
      " |-- marital: string (nullable = true)\n",
      " |-- education: string (nullable = true)\n",
      " |-- default: string (nullable = true)\n",
      " |-- balance: double (nullable = true)\n",
      " |-- housing: string (nullable = true)\n",
      " |-- loan: string (nullable = true)\n",
      " |-- contact: string (nullable = true)\n",
      " |-- day: double (nullable = true)\n",
      " |-- month: string (nullable = true)\n",
      " |-- duration: double (nullable = true)\n",
      " |-- campaign: double (nullable = true)\n",
      " |-- pdays: double (nullable = true)\n",
      " |-- previous: double (nullable = true)\n",
      " |-- poutcome: string (nullable = true)\n",
      " |-- deposit: string (nullable = true)\n",
      " |-- negative_balance: integer (nullable = false)\n",
      "\n"
     ]
    }
   ],
   "source": [
    "df = df.withColumn(\n",
    "    'negative_balance',\n",
    "    F.when(\n",
    "        F.col('balance') < 0,\n",
    "        1\n",
    "    ).otherwise(\n",
    "        0\n",
    "    )\n",
    ")\n",
    "\n",
    "df.printSchema()"
   ]
  },
  {
   "cell_type": "markdown",
   "metadata": {},
   "source": [
    "#### Check if negative balance is a one-off or common occurrence"
   ]
  },
  {
   "cell_type": "code",
   "execution_count": 18,
   "metadata": {},
   "outputs": [
    {
     "data": {
      "text/html": [
       "<div>\n",
       "<style scoped>\n",
       "    .dataframe tbody tr th:only-of-type {\n",
       "        vertical-align: middle;\n",
       "    }\n",
       "\n",
       "    .dataframe tbody tr th {\n",
       "        vertical-align: top;\n",
       "    }\n",
       "\n",
       "    .dataframe thead th {\n",
       "        text-align: right;\n",
       "    }\n",
       "</style>\n",
       "<table border=\"1\" class=\"dataframe\">\n",
       "  <thead>\n",
       "    <tr style=\"text-align: right;\">\n",
       "      <th></th>\n",
       "      <th>negative_balance</th>\n",
       "      <th>count</th>\n",
       "    </tr>\n",
       "  </thead>\n",
       "  <tbody>\n",
       "    <tr>\n",
       "      <th>0</th>\n",
       "      <td>1</td>\n",
       "      <td>688</td>\n",
       "    </tr>\n",
       "    <tr>\n",
       "      <th>1</th>\n",
       "      <td>0</td>\n",
       "      <td>10474</td>\n",
       "    </tr>\n",
       "  </tbody>\n",
       "</table>\n",
       "</div>"
      ],
      "text/plain": [
       "   negative_balance  count\n",
       "0                 1    688\n",
       "1                 0  10474"
      ]
     },
     "execution_count": 18,
     "metadata": {},
     "output_type": "execute_result"
    }
   ],
   "source": [
    "df.groupby(\n",
    "    'negative_balance'\n",
    ").count().toPandas()"
   ]
  },
  {
   "cell_type": "markdown",
   "metadata": {},
   "source": [
    "#### Rename created column"
   ]
  },
  {
   "cell_type": "code",
   "execution_count": 19,
   "metadata": {},
   "outputs": [
    {
     "name": "stdout",
     "output_type": "stream",
     "text": [
      "root\n",
      " |-- age: double (nullable = true)\n",
      " |-- job: string (nullable = true)\n",
      " |-- marital: string (nullable = true)\n",
      " |-- education: string (nullable = true)\n",
      " |-- default: string (nullable = true)\n",
      " |-- balance: double (nullable = true)\n",
      " |-- housing: string (nullable = true)\n",
      " |-- loan: string (nullable = true)\n",
      " |-- contact: string (nullable = true)\n",
      " |-- day: double (nullable = true)\n",
      " |-- month: string (nullable = true)\n",
      " |-- duration: double (nullable = true)\n",
      " |-- campaign: double (nullable = true)\n",
      " |-- pdays: double (nullable = true)\n",
      " |-- previous: double (nullable = true)\n",
      " |-- poutcome: string (nullable = true)\n",
      " |-- deposit: string (nullable = true)\n",
      " |-- neg_bal: integer (nullable = false)\n",
      "\n"
     ]
    }
   ],
   "source": [
    "df = df.withColumnRenamed(\n",
    "    'negative_balance',\n",
    "    'neg_bal'\n",
    ")\n",
    "\n",
    "df.printSchema()"
   ]
  },
  {
   "cell_type": "markdown",
   "metadata": {},
   "source": [
    "#### Drop created column"
   ]
  },
  {
   "cell_type": "code",
   "execution_count": 20,
   "metadata": {},
   "outputs": [
    {
     "name": "stdout",
     "output_type": "stream",
     "text": [
      "root\n",
      " |-- age: double (nullable = true)\n",
      " |-- job: string (nullable = true)\n",
      " |-- marital: string (nullable = true)\n",
      " |-- education: string (nullable = true)\n",
      " |-- default: string (nullable = true)\n",
      " |-- balance: double (nullable = true)\n",
      " |-- housing: string (nullable = true)\n",
      " |-- loan: string (nullable = true)\n",
      " |-- contact: string (nullable = true)\n",
      " |-- day: double (nullable = true)\n",
      " |-- month: string (nullable = true)\n",
      " |-- duration: double (nullable = true)\n",
      " |-- campaign: double (nullable = true)\n",
      " |-- pdays: double (nullable = true)\n",
      " |-- previous: double (nullable = true)\n",
      " |-- poutcome: string (nullable = true)\n",
      " |-- deposit: string (nullable = true)\n",
      "\n"
     ]
    }
   ],
   "source": [
    "df = df.drop('neg_bal')\n",
    "\n",
    "df.printSchema()"
   ]
  },
  {
   "cell_type": "markdown",
   "metadata": {},
   "source": [
    "#### Create new dataframe"
   ]
  },
  {
   "cell_type": "code",
   "execution_count": 21,
   "metadata": {},
   "outputs": [
    {
     "data": {
      "text/html": [
       "<div>\n",
       "<style scoped>\n",
       "    .dataframe tbody tr th:only-of-type {\n",
       "        vertical-align: middle;\n",
       "    }\n",
       "\n",
       "    .dataframe tbody tr th {\n",
       "        vertical-align: top;\n",
       "    }\n",
       "\n",
       "    .dataframe thead th {\n",
       "        text-align: right;\n",
       "    }\n",
       "</style>\n",
       "<table border=\"1\" class=\"dataframe\">\n",
       "  <thead>\n",
       "    <tr style=\"text-align: right;\">\n",
       "      <th></th>\n",
       "      <th>month</th>\n",
       "      <th>month_num</th>\n",
       "    </tr>\n",
       "  </thead>\n",
       "  <tbody>\n",
       "    <tr>\n",
       "      <th>0</th>\n",
       "      <td>jan</td>\n",
       "      <td>1</td>\n",
       "    </tr>\n",
       "    <tr>\n",
       "      <th>1</th>\n",
       "      <td>feb</td>\n",
       "      <td>2</td>\n",
       "    </tr>\n",
       "    <tr>\n",
       "      <th>2</th>\n",
       "      <td>mar</td>\n",
       "      <td>3</td>\n",
       "    </tr>\n",
       "    <tr>\n",
       "      <th>3</th>\n",
       "      <td>apr</td>\n",
       "      <td>4</td>\n",
       "    </tr>\n",
       "    <tr>\n",
       "      <th>4</th>\n",
       "      <td>may</td>\n",
       "      <td>5</td>\n",
       "    </tr>\n",
       "    <tr>\n",
       "      <th>5</th>\n",
       "      <td>jun</td>\n",
       "      <td>6</td>\n",
       "    </tr>\n",
       "    <tr>\n",
       "      <th>6</th>\n",
       "      <td>jul</td>\n",
       "      <td>7</td>\n",
       "    </tr>\n",
       "    <tr>\n",
       "      <th>7</th>\n",
       "      <td>aug</td>\n",
       "      <td>8</td>\n",
       "    </tr>\n",
       "    <tr>\n",
       "      <th>8</th>\n",
       "      <td>sep</td>\n",
       "      <td>9</td>\n",
       "    </tr>\n",
       "    <tr>\n",
       "      <th>9</th>\n",
       "      <td>oct</td>\n",
       "      <td>10</td>\n",
       "    </tr>\n",
       "    <tr>\n",
       "      <th>10</th>\n",
       "      <td>nov</td>\n",
       "      <td>11</td>\n",
       "    </tr>\n",
       "    <tr>\n",
       "      <th>11</th>\n",
       "      <td>dec</td>\n",
       "      <td>12</td>\n",
       "    </tr>\n",
       "  </tbody>\n",
       "</table>\n",
       "</div>"
      ],
      "text/plain": [
       "   month  month_num\n",
       "0    jan          1\n",
       "1    feb          2\n",
       "2    mar          3\n",
       "3    apr          4\n",
       "4    may          5\n",
       "5    jun          6\n",
       "6    jul          7\n",
       "7    aug          8\n",
       "8    sep          9\n",
       "9    oct         10\n",
       "10   nov         11\n",
       "11   dec         12"
      ]
     },
     "execution_count": 21,
     "metadata": {},
     "output_type": "execute_result"
    }
   ],
   "source": [
    "month_dict = [\n",
    "    {'month': 'jan', 'month_num': 1},\n",
    "    {'month': 'feb', 'month_num': 2},\n",
    "    {'month': 'mar', 'month_num': 3},\n",
    "    {'month': 'apr', 'month_num': 4},\n",
    "    {'month': 'may', 'month_num': 5},\n",
    "    {'month': 'jun', 'month_num': 6},\n",
    "    {'month': 'jul', 'month_num': 7},\n",
    "    {'month': 'aug', 'month_num': 8},\n",
    "    {'month': 'sep', 'month_num': 9},\n",
    "    {'month': 'oct', 'month_num': 10},\n",
    "    {'month': 'nov', 'month_num': 11},\n",
    "    {'month': 'dec', 'month_num': 12}\n",
    "]\n",
    "\n",
    "month_df = spark.createDataFrame(\n",
    "    pd.DataFrame(month_dict)\n",
    ")\n",
    "\n",
    "month_df.toPandas()"
   ]
  },
  {
   "cell_type": "markdown",
   "metadata": {},
   "source": [
    "#### Join dataframes"
   ]
  },
  {
   "cell_type": "code",
   "execution_count": 22,
   "metadata": {},
   "outputs": [
    {
     "data": {
      "text/html": [
       "<div>\n",
       "<style scoped>\n",
       "    .dataframe tbody tr th:only-of-type {\n",
       "        vertical-align: middle;\n",
       "    }\n",
       "\n",
       "    .dataframe tbody tr th {\n",
       "        vertical-align: top;\n",
       "    }\n",
       "\n",
       "    .dataframe thead th {\n",
       "        text-align: right;\n",
       "    }\n",
       "</style>\n",
       "<table border=\"1\" class=\"dataframe\">\n",
       "  <thead>\n",
       "    <tr style=\"text-align: right;\">\n",
       "      <th></th>\n",
       "      <th>month</th>\n",
       "      <th>age</th>\n",
       "      <th>job</th>\n",
       "      <th>marital</th>\n",
       "      <th>education</th>\n",
       "      <th>default</th>\n",
       "      <th>balance</th>\n",
       "      <th>housing</th>\n",
       "      <th>loan</th>\n",
       "      <th>contact</th>\n",
       "      <th>day</th>\n",
       "      <th>duration</th>\n",
       "      <th>campaign</th>\n",
       "      <th>pdays</th>\n",
       "      <th>previous</th>\n",
       "      <th>poutcome</th>\n",
       "      <th>deposit</th>\n",
       "      <th>month_num</th>\n",
       "    </tr>\n",
       "  </thead>\n",
       "  <tbody>\n",
       "    <tr>\n",
       "      <th>0</th>\n",
       "      <td>jan</td>\n",
       "      <td>57.0</td>\n",
       "      <td>unemployed</td>\n",
       "      <td>married</td>\n",
       "      <td>primary</td>\n",
       "      <td>no</td>\n",
       "      <td>2743.0</td>\n",
       "      <td>no</td>\n",
       "      <td>no</td>\n",
       "      <td>cellular</td>\n",
       "      <td>29.0</td>\n",
       "      <td>89.0</td>\n",
       "      <td>1.0</td>\n",
       "      <td>-1.0</td>\n",
       "      <td>0.0</td>\n",
       "      <td>unknown</td>\n",
       "      <td>no</td>\n",
       "      <td>1</td>\n",
       "    </tr>\n",
       "    <tr>\n",
       "      <th>1</th>\n",
       "      <td>jan</td>\n",
       "      <td>34.0</td>\n",
       "      <td>services</td>\n",
       "      <td>single</td>\n",
       "      <td>secondary</td>\n",
       "      <td>no</td>\n",
       "      <td>2257.0</td>\n",
       "      <td>no</td>\n",
       "      <td>yes</td>\n",
       "      <td>telephone</td>\n",
       "      <td>30.0</td>\n",
       "      <td>568.0</td>\n",
       "      <td>2.0</td>\n",
       "      <td>-1.0</td>\n",
       "      <td>0.0</td>\n",
       "      <td>unknown</td>\n",
       "      <td>no</td>\n",
       "      <td>1</td>\n",
       "    </tr>\n",
       "    <tr>\n",
       "      <th>2</th>\n",
       "      <td>jan</td>\n",
       "      <td>34.0</td>\n",
       "      <td>blue-collar</td>\n",
       "      <td>married</td>\n",
       "      <td>primary</td>\n",
       "      <td>no</td>\n",
       "      <td>6718.0</td>\n",
       "      <td>no</td>\n",
       "      <td>no</td>\n",
       "      <td>cellular</td>\n",
       "      <td>13.0</td>\n",
       "      <td>278.0</td>\n",
       "      <td>4.0</td>\n",
       "      <td>97.0</td>\n",
       "      <td>1.0</td>\n",
       "      <td>unknown</td>\n",
       "      <td>no</td>\n",
       "      <td>1</td>\n",
       "    </tr>\n",
       "  </tbody>\n",
       "</table>\n",
       "</div>"
      ],
      "text/plain": [
       "  month   age          job  marital  education default  balance housing loan  \\\n",
       "0   jan  57.0   unemployed  married    primary      no   2743.0      no   no   \n",
       "1   jan  34.0     services   single  secondary      no   2257.0      no  yes   \n",
       "2   jan  34.0  blue-collar  married    primary      no   6718.0      no   no   \n",
       "\n",
       "     contact   day  duration  campaign  pdays  previous poutcome deposit  \\\n",
       "0   cellular  29.0      89.0       1.0   -1.0       0.0  unknown      no   \n",
       "1  telephone  30.0     568.0       2.0   -1.0       0.0  unknown      no   \n",
       "2   cellular  13.0     278.0       4.0   97.0       1.0  unknown      no   \n",
       "\n",
       "   month_num  \n",
       "0          1  \n",
       "1          1  \n",
       "2          1  "
      ]
     },
     "execution_count": 22,
     "metadata": {},
     "output_type": "execute_result"
    }
   ],
   "source": [
    "df = df.join(\n",
    "    month_df,\n",
    "    on='month',\n",
    "    how='inner'\n",
    ")\n",
    "\n",
    "df.limit(3).toPandas()"
   ]
  },
  {
   "cell_type": "markdown",
   "metadata": {},
   "source": [
    "#### Union dataframes"
   ]
  },
  {
   "cell_type": "code",
   "execution_count": 23,
   "metadata": {},
   "outputs": [
    {
     "data": {
      "text/plain": [
       "22324"
      ]
     },
     "execution_count": 23,
     "metadata": {},
     "output_type": "execute_result"
    }
   ],
   "source": [
    "df = df.union(df)\n",
    "\n",
    "df.count()"
   ]
  },
  {
   "cell_type": "markdown",
   "metadata": {},
   "source": [
    "#### Deduplicate dataframe"
   ]
  },
  {
   "cell_type": "code",
   "execution_count": 24,
   "metadata": {},
   "outputs": [
    {
     "data": {
      "text/plain": [
       "11162"
      ]
     },
     "execution_count": 24,
     "metadata": {},
     "output_type": "execute_result"
    }
   ],
   "source": [
    "df = df.dropDuplicates()\n",
    "\n",
    "df.count()"
   ]
  },
  {
   "cell_type": "markdown",
   "metadata": {},
   "source": [
    "#### Stop spark"
   ]
  },
  {
   "cell_type": "code",
   "execution_count": 25,
   "metadata": {},
   "outputs": [],
   "source": [
    "spark.stop()"
   ]
  }
 ],
 "metadata": {
  "kernelspec": {
   "display_name": "Python 3",
   "language": "python",
   "name": "python3"
  },
  "language_info": {
   "codemirror_mode": {
    "name": "ipython",
    "version": 3
   },
   "file_extension": ".py",
   "mimetype": "text/x-python",
   "name": "python",
   "nbconvert_exporter": "python",
   "pygments_lexer": "ipython3",
   "version": "3.6.4"
  }
 },
 "nbformat": 4,
 "nbformat_minor": 2
}
